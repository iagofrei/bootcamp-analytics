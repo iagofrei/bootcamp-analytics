{
 "cells": [
  {
   "attachments": {},
   "cell_type": "markdown",
   "id": "ebfbea4e",
   "metadata": {},
   "source": [
    "# Atividade 3\n",
    "\n",
    "Faça tudo via dbt. \n",
    "\n",
    "Envia como resposta:\n",
    "- A query SQL\n",
    "- Comando utilizado via terminal no `dbt`\n",
    "- Um print do resultado no próprio notebook, para isso é necessário criar uma pasta no repositório onde serão armazenadas as imagens, e para inserir no notebook é necessário criar uma célula `markdown` e inserir o seguinte comando: \n",
    "\n",
    "```markdown\n",
    "![Nome da Foto](path/para/imagem)\n",
    "```"
   ]
  },
  {
   "attachments": {},
   "cell_type": "markdown",
   "id": "c0c42967",
   "metadata": {},
   "source": [
    "1. Crie uma tabela `orders_by_year` a partir de `orders` que agrupa a quantidade de pedidos por ano, considerando a coluna `order_approved_at`"
   ]
  },
  {
   "attachments": {},
   "cell_type": "markdown",
   "id": "f3ea9041",
   "metadata": {},
   "source": [
    "> Query SQL:\n",
    "\n",
    "```SQL\n",
    "{{ config(materialized='table') }}\n",
    "\n",
    "   SELECT\n",
    "      extract(year from order_approved_at) as ano_do_pedido,\n",
    "      count (order_id) as total\n",
    "   FROM \n",
    "      `dbt_shop.orders` \n",
    "    WHERE\n",
    "      order_approved_at IS NOT NULL\n",
    "   GROUP BY \n",
    "      ano_do_pedido\n",
    "```\n",
    "\n",
    "> Comando do terminal\n",
    "\n",
    "` dbt run --models shop.order_by_year `\n",
    "\n",
    "> Print do Resultado\n",
    "\n",
    "![Resposta do exercicio 1](imagens_atividade_3/exercicio_1.png)"
   ]
  },
  {
   "attachments": {},
   "cell_type": "markdown",
   "id": "aa520524",
   "metadata": {},
   "source": [
    "2. Crie uma `view` que agrega os totais de pedidos por estado. Considere as tabelas _customers_ para obter os estados (coluna _customer_state_) e _orders_ para contabilizar a quantidade de pedidos."
   ]
  },
  {
   "attachments": {},
   "cell_type": "markdown",
   "id": "ba9e8bed",
   "metadata": {},
   "source": [
    "> Query SQL:\n",
    "\n",
    "```SQL\n",
    "SELECT\n",
    "    customers.customer_state as estado, \n",
    "    count(orders.order_id) as total\n",
    "FROM \n",
    "    `dbt_shop.orders` as orders\n",
    "INNER JOIN\n",
    "    `dbt_shop.customers` as customers on (orders.customer_id = customers.customer_id)\n",
    "GROUP BY customers.customer_state\n",
    "```\n",
    "\n",
    "> Comando do terminal\n",
    "\n",
    "` dbt run --models shop.totais_pedidos_por_estado `\n",
    "\n",
    "> Print do Resultado\n",
    "\n",
    "![Resposta do exercicio 2](imagens_atividade_3/exercicio_2.png)"
   ]
  },
  {
   "attachments": {},
   "cell_type": "markdown",
   "id": "54e0e5f1",
   "metadata": {},
   "source": [
    "3. De acordo com o resultado do exercício 2 retorne apenas os estados que tem mais de 5000 pedidos, esse número deve ser passado via variável `number_of_orders` do `dbt`."
   ]
  },
  {
   "attachments": {},
   "cell_type": "markdown",
   "id": "8fa73d6a",
   "metadata": {},
   "source": [
    "> Query SQL:\n",
    "\n",
    "```SQL\n",
    "SELECT\n",
    "    *\n",
    "FROM \n",
    "    `dataset_iago.totais_pedidos_por_estado`\n",
    "WHERE\n",
    "    total > CAST('{{ var(\"number_of_orders\") }}' as INT64)\n",
    "```\n",
    "\n",
    "> Comando do terminal\n",
    "\n",
    "` dbt run --models shop.pedidos_por_estado_com_variavel --vars \"{'number_of_orders': '5000'}\" `\n",
    "\n",
    "> Print do Resultado\n",
    "\n",
    "![Resposta do exercicio 3](imagens_atividade_3/exercicio_3.png)"
   ]
  },
  {
   "attachments": {},
   "cell_type": "markdown",
   "id": "9c3ad0cc",
   "metadata": {},
   "source": [
    "4. Crie uma `view` chamada `customers_by_region` que utiliza os dados da tabela `customers`. A visão deve realizar uma agregação por região do Brasil (Norte, Nordeste, Sudeste, Centro Oeste e Sul) e contar o número de clientes em cada uma delas."
   ]
  },
  {
   "attachments": {},
   "cell_type": "markdown",
   "id": "1d05e3d8",
   "metadata": {},
   "source": [
    "> Query SQL:\n",
    "\n",
    "```SQL\n",
    "SELECT \n",
    "    case\n",
    "        when customer_state like 'AM' then 'Norte'\n",
    "        when customer_state like 'RR' then 'Norte'\n",
    "        when customer_state like 'AP' then 'Norte'\n",
    "        when customer_state like 'PA' then 'Norte'\n",
    "        when customer_state like 'TO' then 'Norte'\n",
    "        when customer_state like 'RO' then 'Norte'\n",
    "        when customer_state like 'AC' then 'Norte'\n",
    "        when customer_state like 'RN' then 'Nordeste'\n",
    "        when customer_state like 'CE' then 'Nordeste'\n",
    "        when customer_state like 'MA' then 'Nordeste'\n",
    "        when customer_state like 'PI' then 'Nordeste'\n",
    "        when customer_state like 'PE' then 'Nordeste'\n",
    "        when customer_state like 'PB' then 'Nordeste'\n",
    "        when customer_state like 'SE' then 'Nordeste'\n",
    "        when customer_state like 'AL' then 'Nordeste'\n",
    "        when customer_state like 'BA' then 'Nordeste'\n",
    "        when customer_state like 'MT' then 'Centro-Oeste'\n",
    "        when customer_state like 'MS' then 'Centro-Oeste'\n",
    "        when customer_state like 'GO' then 'Centro-Oeste'\n",
    "        when customer_state like 'DF' then 'Centro-Oeste'\n",
    "        when customer_state like 'SP' then 'Sudeste'\n",
    "        when customer_state like 'RJ' then 'Sudeste'\n",
    "        when customer_state like 'MG' then 'Sudeste'\n",
    "        when customer_state like 'ES' then 'Sudeste'\n",
    "        when customer_state like 'PR' then 'Sul'\n",
    "        when customer_state like 'SC' then 'Sul'\n",
    "        when customer_state like 'RS' then 'Sul'\n",
    "\n",
    "    end as regiao,\n",
    "    count (customer_id) as numero_de_clientes\n",
    "FROM `dbt_shop.customers`\n",
    "GROUP BY regiao\n",
    "```\n",
    "\n",
    "> Comando do terminal\n",
    "\n",
    "` dbt run --models shop.customers_by_region `\n",
    "\n",
    "> Print do Resultado\n",
    "\n",
    "![Resposta do exercicio 4](imagens_atividade_3/exercicio_4.png)"
   ]
  },
  {
   "attachments": {},
   "cell_type": "markdown",
   "id": "d4c16290",
   "metadata": {},
   "source": [
    "5. Crie uma tabela `items_costs` que contenha o preço total de um item (soma do valor do produto com o frete)."
   ]
  },
  {
   "attachments": {},
   "cell_type": "markdown",
   "id": "16140d44",
   "metadata": {},
   "source": [
    "> Query SQL:\n",
    "\n",
    "```SQL\n",
    "{{ config(materialized='table') }}\n",
    "\n",
    "   SELECT\n",
    "      order_id,\n",
    "      order_item_id, \n",
    "      product_id,\n",
    "      ROUND((price + freight_value), 2) as item_cost\n",
    "   FROM \n",
    "      `dbt_shop.items`\n",
    "```\n",
    "\n",
    "> Comando do terminal\n",
    "\n",
    "` dbt run --models shop.items_costs `\n",
    "\n",
    "> Print do Resultado\n",
    "\n",
    "![Resposta do exercicio 5](imagens_atividade_3/exercicio_5.png)"
   ]
  },
  {
   "attachments": {},
   "cell_type": "markdown",
   "id": "08cc4c02",
   "metadata": {},
   "source": [
    "6. Crie uma `view` com o nome `orders_shipped_costs`, você deve calcular o preço total do pedido somado com o frete, apenas para pedidos enviado (shipped)."
   ]
  },
  {
   "attachments": {},
   "cell_type": "markdown",
   "id": "6b34e153",
   "metadata": {},
   "source": [
    "> Query SQL:\n",
    "\n",
    "```SQL\n",
    "SELECT \n",
    "    orders.order_id, \n",
    "    orders.order_status, \n",
    "    items.price, \n",
    "    items.freight_value, \n",
    "    ROUND((items.price + items.freight_value), 2) as full_price \n",
    "FROM \n",
    "    `dbt_shop.orders` as orders\n",
    "INNER JOIN \n",
    "    `dbt_shop.items` as items on (items.order_id = orders.order_id)\n",
    "WHERE \n",
    "    order_status like \"shipped\"\n",
    "```\n",
    "\n",
    "> Comando do terminal\n",
    "\n",
    "` dbt run --models shop.orders_shipped_costs `\n",
    "\n",
    "> Print do Resultado\n",
    "\n",
    "![Resposta do exercicio 6](imagens_atividade_3/exercicio_6.png)"
   ]
  }
 ],
 "metadata": {
  "kernelspec": {
   "display_name": "Python 3",
   "language": "python",
   "name": "python3"
  },
  "language_info": {
   "codemirror_mode": {
    "name": "ipython",
    "version": 3
   },
   "file_extension": ".py",
   "mimetype": "text/x-python",
   "name": "python",
   "nbconvert_exporter": "python",
   "pygments_lexer": "ipython3",
   "version": "3.9.1"
  }
 },
 "nbformat": 4,
 "nbformat_minor": 5
}
